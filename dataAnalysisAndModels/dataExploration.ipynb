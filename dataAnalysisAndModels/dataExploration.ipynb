{
 "cells": [
  {
   "cell_type": "code",
   "execution_count": 1,
   "metadata": {},
   "outputs": [],
   "source": [
    "import pandas as pd\n",
    "import numpy as np\n",
    "import regex as re\n",
    "import geopy.distance"
   ]
  },
  {
   "cell_type": "code",
   "execution_count": 2,
   "metadata": {},
   "outputs": [],
   "source": [
    "df = pd.read_csv('data_new.csv',index_col=False)"
   ]
  },
  {
   "cell_type": "code",
   "execution_count": 55,
   "metadata": {},
   "outputs": [
    {
     "data": {
      "text/plain": [
       "1378"
      ]
     },
     "execution_count": 55,
     "metadata": {},
     "output_type": "execute_result"
    }
   ],
   "source": [
    "len(df[df['adres'].isnull()])"
   ]
  },
  {
   "cell_type": "code",
   "execution_count": 12,
   "metadata": {},
   "outputs": [
    {
     "data": {
      "text/plain": [
       "9580"
      ]
     },
     "execution_count": 12,
     "metadata": {},
     "output_type": "execute_result"
    }
   ],
   "source": [
    "len(df)"
   ]
  },
  {
   "cell_type": "code",
   "execution_count": 4,
   "metadata": {},
   "outputs": [],
   "source": [
    "df.drop_duplicates(inplace=True)"
   ]
  },
  {
   "cell_type": "code",
   "execution_count": 5,
   "metadata": {},
   "outputs": [],
   "source": [
    "df = pd.read_csv('data_new.csv',index_col=False)\n",
    "df = df[df['price']!='Zapytaj o cenę']\n",
    "df = df[df['adres'].notnull()]\n",
    "df = df.replace('Zapytaj','nieznane')\n",
    "df = df.replace('brak informacji','nieznane')\n",
    "df = df.drop(axis=1,columns=['availableSince','marketer'])"
   ]
  },
  {
   "cell_type": "code",
   "execution_count": 17,
   "metadata": {},
   "outputs": [
    {
     "data": {
      "text/plain": [
       "Index(['price', 'size', 'formOfOwnership', 'numberOfRooms', 'condition',\n",
       "       'floor', 'balcony/garden/terrace', 'rent', 'parkingSpot',\n",
       "       'remoteService', 'heating', 'market', 'yearOfConstruction',\n",
       "       'typeOfConstruction', 'windows', 'elevator', 'media', 'safetyMeasures',\n",
       "       'equipment', 'additionalInfo', 'constructionMaterial',\n",
       "       'coordinatesLink', 'adres'],\n",
       "      dtype='object')"
      ]
     },
     "execution_count": 17,
     "metadata": {},
     "output_type": "execute_result"
    }
   ],
   "source": [
    "df.columns"
   ]
  },
  {
   "cell_type": "markdown",
   "metadata": {},
   "source": [
    "# Cena"
   ]
  },
  {
   "cell_type": "code",
   "execution_count": 58,
   "metadata": {},
   "outputs": [],
   "source": [
    "def convertPriceCol(price) -> int:\n",
    "    if(price == 'nieznane'):\n",
    "        return 0\n",
    "    if(price[-3:] == \"EUR\"):\n",
    "        price = float(re.sub(\"\\s|[^0-9,.]\",\"\",price).replace(\",\",\".\"))    \n",
    "        price = int(price*4.31)\n",
    "        return price\n",
    "    elif(price[-2:] == \"zł\"):\n",
    "        price = int(float(re.sub(\"[^\\d|\\,]\",\"\",price).replace(\",\",\".\")))\n",
    "        return price\n",
    "    else:\n",
    "        return price\n",
    "df['price'] = df['price'].apply(convertPriceCol)"
   ]
  },
  {
   "cell_type": "markdown",
   "metadata": {},
   "source": [
    "# Powierzchnia"
   ]
  },
  {
   "cell_type": "code",
   "execution_count": 18,
   "metadata": {},
   "outputs": [],
   "source": [
    "def convertSizeCol(size):\n",
    "    return float(re.sub(\"[^\\d|\\,]\",\"\",size).replace(\",\",\".\"))\n",
    "df['size'] = df['size'].apply(convertSizeCol)\n",
    "\n",
    "df = df[(df['size'].between(10,500)) & (~df['size'].isin([420.00,470.00,460.00,347.70,379.00,303.00,317.00]))]"
   ]
  },
  {
   "cell_type": "code",
   "execution_count": 19,
   "metadata": {},
   "outputs": [
    {
     "data": {
      "text/plain": [
       "9564"
      ]
     },
     "execution_count": 19,
     "metadata": {},
     "output_type": "execute_result"
    }
   ],
   "source": [
    "len(df)"
   ]
  },
  {
   "cell_type": "markdown",
   "metadata": {},
   "source": [
    "# Liczba pokoi"
   ]
  },
  {
   "cell_type": "code",
   "execution_count": 60,
   "metadata": {},
   "outputs": [],
   "source": [
    "def convertNumberOfRooms(rooms) -> int:\n",
    "    if(rooms == 'więcej niż 10'):\n",
    "        return 11\n",
    "    else:\n",
    "        return int(rooms)\n",
    "df['numberOfRooms'] = df['numberOfRooms'].apply(convertNumberOfRooms)   "
   ]
  },
  {
   "cell_type": "markdown",
   "metadata": {},
   "source": [
    "# Stan"
   ]
  },
  {
   "cell_type": "code",
   "execution_count": 61,
   "metadata": {},
   "outputs": [
    {
     "data": {
      "text/plain": [
       "array(['do remontu', 'do zamieszkania', 'nieznane', 'do wykończenia'],\n",
       "      dtype=object)"
      ]
     },
     "execution_count": 61,
     "metadata": {},
     "output_type": "execute_result"
    }
   ],
   "source": [
    "df['condition'].unique()"
   ]
  },
  {
   "cell_type": "markdown",
   "metadata": {},
   "source": [
    "# Piętro"
   ]
  },
  {
   "cell_type": "code",
   "execution_count": 62,
   "metadata": {},
   "outputs": [],
   "source": [
    "def convertFloor(floor) -> int:\n",
    "    level = floor.split('/')\n",
    "    if(level[0] == 'parter'):\n",
    "        return 0\n",
    "    elif(level[0] == 'suterena'):\n",
    "        return -1\n",
    "    elif(level[0] == 'nieznane' or (len(level) == 1 and level[0] == 'poddasze')):\n",
    "        return -2\n",
    "    elif(len(level)==1):\n",
    "        return int(re.sub(\"[^\\d]\",\"\",level[0]))\n",
    "    if(len(level)==2):\n",
    "        if(level[0] == 'poddasze'):\n",
    "            return int(level[1]) \n",
    "        if(int(re.sub(\"[^\\d]\",\"\",level[0]))>int(re.sub(\"[^\\d]\",\"\",level[1]))):\n",
    "            level[0] = level[1]\n",
    "        return int(re.sub(\"[^\\d]\",\"\",level[0]))\n"
   ]
  },
  {
   "cell_type": "code",
   "execution_count": 63,
   "metadata": {},
   "outputs": [],
   "source": [
    "df['estateFloor'] = df['floor'].apply(convertFloor)"
   ]
  },
  {
   "cell_type": "markdown",
   "metadata": {},
   "source": [
    "# Liczba pięter"
   ]
  },
  {
   "cell_type": "code",
   "execution_count": 64,
   "metadata": {},
   "outputs": [],
   "source": [
    "def convertLastFloor(floor) -> int:        \n",
    "    level = floor.split('/')\n",
    "    if(len(level)==2):\n",
    "        try:\n",
    "            if(int(re.sub(\"[^\\d]\",\"\",level[0]))>int(re.sub(\"[^\\d]\",\"\",level[1]))):\n",
    "                level[1] = level[0]\n",
    "        except:\n",
    "            1==1\n",
    "        if(int(re.sub(\"[^\\d]\",\"\",level[1]))>53):\n",
    "            return -2\n",
    "        return int(re.sub(\"[^\\d]\",\"\",level[1]))\n",
    "    return -2\n",
    "\n",
    "df['lastFloor'] = df['floor'].apply(convertLastFloor)\n",
    "df = df.drop(axis=1,columns=['floor'])"
   ]
  },
  {
   "cell_type": "markdown",
   "metadata": {},
   "source": [
    "# Balkon / Ogród / terrace"
   ]
  },
  {
   "cell_type": "code",
   "execution_count": 65,
   "metadata": {},
   "outputs": [],
   "source": [
    "def convertValues(row,column):\n",
    "    values = list(map(lambda x: x.replace(\" \", \"_\"), list(map(str.strip, row[f'{column}'].split(',')))))\n",
    "    for val in values:\n",
    "        if val != 'nieznane':\n",
    "            row[f'{val}'] = int(1)\n",
    "    return row   \n",
    "df = df.apply(convertValues, column='balcony/garden/terrace',axis=1)\n",
    "df = df.drop(axis=1,columns=['balcony/garden/terrace'])"
   ]
  },
  {
   "cell_type": "markdown",
   "metadata": {},
   "source": [
    "# Czynsz"
   ]
  },
  {
   "cell_type": "code",
   "execution_count": 66,
   "metadata": {},
   "outputs": [],
   "source": [
    "df['rent'] = df['rent'].apply(convertPriceCol)"
   ]
  },
  {
   "cell_type": "markdown",
   "metadata": {},
   "source": [
    "# Miejsce parkingowe"
   ]
  },
  {
   "cell_type": "code",
   "execution_count": 67,
   "metadata": {},
   "outputs": [],
   "source": [
    "df['parkingSpot'] = df['parkingSpot'].replace(\"nieznane\",int(0))\n",
    "df['parkingSpot'] = df['parkingSpot'].replace('garaż/miejsce parkingowe',(1))"
   ]
  },
  {
   "cell_type": "markdown",
   "metadata": {},
   "source": [
    "# Ogrzewanie"
   ]
  },
  {
   "cell_type": "code",
   "execution_count": 68,
   "metadata": {},
   "outputs": [
    {
     "name": "stdout",
     "output_type": "stream",
     "text": [
      "['miejskie' 'nieznane' 'inne' 'gazowe' 'elektryczne' 'kotłownia'\n",
      " 'piece kaflowe']\n"
     ]
    }
   ],
   "source": [
    "print(df['heating'].unique())"
   ]
  },
  {
   "cell_type": "markdown",
   "metadata": {},
   "source": [
    "# Market"
   ]
  },
  {
   "cell_type": "code",
   "execution_count": 69,
   "metadata": {},
   "outputs": [
    {
     "name": "stdout",
     "output_type": "stream",
     "text": [
      "['wtórny' 'pierwotny']\n"
     ]
    }
   ],
   "source": [
    "print(df['market'].unique())"
   ]
  },
  {
   "cell_type": "markdown",
   "metadata": {},
   "source": [
    "# Rok budowy"
   ]
  },
  {
   "cell_type": "code",
   "execution_count": 70,
   "metadata": {},
   "outputs": [],
   "source": [
    "df.loc[df[\"yearOfConstruction\"] == '1836', \"yearOfConstruction\"] = '1936'\n",
    "def convertYear(year):\n",
    "    if(len(year) == 10):\n",
    "        return int(year[:4])\n",
    "    if(year == 'nieznane'):\n",
    "        return 0\n",
    "    if(int(year) > 1800 and int(year) < 2027):\n",
    "        return int(year)\n",
    "    else:\n",
    "        return int(0)\n",
    "df['yearOfConstruction'] = df['yearOfConstruction'].apply(convertYear)\n",
    "# df['yearOfConstruction'] = df['yearOfConstruction'].astype(int)"
   ]
  },
  {
   "cell_type": "markdown",
   "metadata": {},
   "source": [
    "# Typ budynku"
   ]
  },
  {
   "cell_type": "code",
   "execution_count": 71,
   "metadata": {},
   "outputs": [
    {
     "name": "stdout",
     "output_type": "stream",
     "text": [
      "['blok' 'kamienica' 'apartamentowiec' 'nieznane' 'dom wolnostojący'\n",
      " 'szeregowiec' 'plomba' 'loft']\n"
     ]
    }
   ],
   "source": [
    "print(df['typeOfConstruction'].unique())"
   ]
  },
  {
   "cell_type": "markdown",
   "metadata": {},
   "source": [
    "# Okna"
   ]
  },
  {
   "cell_type": "code",
   "execution_count": 72,
   "metadata": {},
   "outputs": [
    {
     "name": "stdout",
     "output_type": "stream",
     "text": [
      "['nieznane' 'plastikowe' 'aluminiowe' 'drewniane']\n"
     ]
    }
   ],
   "source": [
    "print(df['windows'].unique())"
   ]
  },
  {
   "cell_type": "markdown",
   "metadata": {},
   "source": [
    "# Winda"
   ]
  },
  {
   "cell_type": "code",
   "execution_count": 73,
   "metadata": {},
   "outputs": [],
   "source": [
    "df['elevator'] = df['elevator'].replace(\"tak\",int(1))\n",
    "df['elevator'] = df['elevator'].replace('nie',int(0))"
   ]
  },
  {
   "cell_type": "markdown",
   "metadata": {},
   "source": [
    "# Media"
   ]
  },
  {
   "cell_type": "code",
   "execution_count": 74,
   "metadata": {},
   "outputs": [],
   "source": [
    "def convertValues(row,column):\n",
    "    values = list(map(lambda x: x.replace(\" \", \"_\"), list(map(str.strip, row[f'{column}'].split(',')))))\n",
    "    for val in values:\n",
    "        if val != 'nieznane':\n",
    "            row[f'{val}'] = int(1)\n",
    "    return row   \n",
    "df = df.apply(convertValues, column='media',axis=1)\n",
    "df = df.drop(axis=1,columns=['media'])"
   ]
  },
  {
   "cell_type": "markdown",
   "metadata": {},
   "source": [
    "# Zabezpieczenia"
   ]
  },
  {
   "cell_type": "code",
   "execution_count": 75,
   "metadata": {},
   "outputs": [
    {
     "data": {
      "text/plain": [
       "array(['oddzielna kuchnia', 'oddzielna kuchnia, pom. użytkowe',\n",
       "       'piwnica, oddzielna kuchnia', 'klimatyzacja', 'nieznane',\n",
       "       'piwnica, pom. użytkowe', 'piwnica', 'pom. użytkowe',\n",
       "       'klimatyzacja, dwupoziomowe, pom. użytkowe',\n",
       "       'klimatyzacja, piwnica, dwupoziomowe', 'klimatyzacja, piwnica',\n",
       "       'klimatyzacja, pom. użytkowe',\n",
       "       'klimatyzacja, piwnica, oddzielna kuchnia',\n",
       "       'klimatyzacja, piwnica, oddzielna kuchnia, pom. użytkowe',\n",
       "       'dwupoziomowe', 'klimatyzacja, piwnica, pom. użytkowe',\n",
       "       'klimatyzacja, oddzielna kuchnia, pom. użytkowe',\n",
       "       'piwnica, oddzielna kuchnia, pom. użytkowe',\n",
       "       'dwupoziomowe, pom. użytkowe', 'klimatyzacja, dwupoziomowe',\n",
       "       'klimatyzacja, oddzielna kuchnia', 'piwnica, dwupoziomowe',\n",
       "       'piwnica, oddzielna kuchnia, dwupoziomowe',\n",
       "       'klimatyzacja, piwnica, dwupoziomowe, pom. użytkowe',\n",
       "       'klimatyzacja, piwnica, oddzielna kuchnia, dwupoziomowe, pom. użytkowe',\n",
       "       'oddzielna kuchnia, dwupoziomowe, pom. użytkowe',\n",
       "       'piwnica, dwupoziomowe, pom. użytkowe',\n",
       "       'klimatyzacja, oddzielna kuchnia, dwupoziomowe, pom. użytkowe',\n",
       "       'klimatyzacja, oddzielna kuchnia, dwupoziomowe',\n",
       "       'dwupoziomowe, piwnica',\n",
       "       'piwnica, oddzielna kuchnia, dwupoziomowe, pom. użytkowe',\n",
       "       'oddzielna kuchnia, dwupoziomowe'], dtype=object)"
      ]
     },
     "execution_count": 75,
     "metadata": {},
     "output_type": "execute_result"
    }
   ],
   "source": [
    "df['additionalInfo'].unique()"
   ]
  },
  {
   "cell_type": "code",
   "execution_count": 76,
   "metadata": {},
   "outputs": [],
   "source": [
    "def convertValues(row,column) -> int:\n",
    "    values = list(map(lambda x: x.replace(\" \", \"_\"), list(map(str.strip, row[f'{column}'].split(',')))))\n",
    "    for val in values:\n",
    "        if val != 'nieznane':\n",
    "            row[f'{val}'] = int(1)\n",
    "    return row   \n",
    "df = df.apply(convertValues, column='safetyMeasures',axis=1)\n",
    "df = df.drop(axis=1,columns=['safetyMeasures'])"
   ]
  },
  {
   "cell_type": "markdown",
   "metadata": {},
   "source": [
    "# Urządzenia"
   ]
  },
  {
   "cell_type": "code",
   "execution_count": 77,
   "metadata": {},
   "outputs": [],
   "source": [
    "def convertValues(row,column) -> int:\n",
    "    values = list(map(lambda x: x.replace(\" \", \"_\"), list(map(str.strip, row[f'{column}'].split(',')))))\n",
    "    for val in values:\n",
    "        if val != 'nieznane':\n",
    "            row[f'{val}'] = int(1)\n",
    "    return row   \n",
    "df = df.apply(convertValues, column='equipment',axis=1)\n",
    "df = df.drop(axis=1,columns=['equipment'])"
   ]
  },
  {
   "cell_type": "markdown",
   "metadata": {},
   "source": [
    "# Dodatkowe informacje"
   ]
  },
  {
   "cell_type": "code",
   "execution_count": 78,
   "metadata": {},
   "outputs": [],
   "source": [
    "\n",
    "def convertValues(row,column) -> int:\n",
    "    values = list(map(lambda x: x.replace(\" \", \"_\"), list(map(str.strip, row[f'{column}'].split(',')))))\n",
    "    for val in values:\n",
    "        if val != 'nieznane':\n",
    "            row[f'{val}'] = int(1)\n",
    "    return row   \n",
    "df = df.apply(convertValues, column='additionalInfo',axis=1)\n",
    "df = df.drop(axis=1,columns=['additionalInfo'])"
   ]
  },
  {
   "cell_type": "markdown",
   "metadata": {},
   "source": [
    "# Materiał "
   ]
  },
  {
   "cell_type": "markdown",
   "metadata": {},
   "source": [
    "# Współrzędne geograficzne"
   ]
  },
  {
   "cell_type": "code",
   "execution_count": 79,
   "metadata": {},
   "outputs": [],
   "source": [
    "def getCoordinates(row):\n",
    "    link = row['coordinatesLink']\n",
    "    matches = re.search(r'll=([\\d.]+),([\\d.]+)', link)\n",
    "    row['latitude'] = matches.group(1)\n",
    "    row['longitude'] = matches.group(2)\n",
    "    return row\n",
    "df = df.apply(getCoordinates,axis=1)\n",
    "df = df.drop(axis=1,columns=['coordinatesLink'])"
   ]
  },
  {
   "cell_type": "markdown",
   "metadata": {},
   "source": [
    "# Adres "
   ]
  },
  {
   "cell_type": "code",
   "execution_count": 20,
   "metadata": {},
   "outputs": [],
   "source": [
    "def getAdres(row):\n",
    "    values = list(map(str.strip, row['adres'].split(',')))\n",
    "    if len(values) == 3 or len(values) == 4 and values[0] in ['Mysiadło','Dawidy','Blizne Łaszczyńskiego','Ząbki']:\n",
    "        row['city'] = values[0]\n",
    "    elif len(values) == 4 or len(values)==5 and values[1] in ['Bielawa','Raszyn','Blizne Łaszczyńskiego']:\n",
    "        if any(x in values[2] for x in ['wołomiński','Raszyn','Stare Babice','wołomiński']):\n",
    "            row['street'] = values[0]\n",
    "            row['city'] = values[1]\n",
    "        else:\n",
    "            row['street'] = values[0]\n",
    "            row['district'] = values[1]\n",
    "            row['city'] = values[2]\n",
    "    elif len(values) == 5:\n",
    "        row['street'] = values[0]\n",
    "        row['MSI'] = values[1]\n",
    "        row['district'] = values[2]\n",
    "        row['city'] = values[3]\n",
    "    elif len(values) == 6:\n",
    "        if any(x not in values[0] for x in ['ul','Hemara','Polska','Norwida','Wilcza','Dzieci']):\n",
    "            row['street'] = values[1]\n",
    "            row['MSI'] = values[2]\n",
    "            row['district'] = values[3]\n",
    "            row['city'] = values[4]\n",
    "        else:\n",
    "            row['street'] = values[0]\n",
    "            row['MSI'] = values[2]\n",
    "            row['district'] = values[3]\n",
    "            row['city'] = values[4]\n",
    "    return row\n",
    "df = df.apply(getAdres,axis=1)\n",
    "df = df.drop(axis=1,columns=['adres'])\n",
    "\n",
    "df.drop_duplicates(subset=['street','size','yearOfConstruction'],inplace=True)"
   ]
  },
  {
   "cell_type": "code",
   "execution_count": 21,
   "metadata": {},
   "outputs": [
    {
     "data": {
      "text/plain": [
       "7414"
      ]
     },
     "execution_count": 21,
     "metadata": {},
     "output_type": "execute_result"
    }
   ],
   "source": [
    "len(df)"
   ]
  },
  {
   "cell_type": "markdown",
   "metadata": {},
   "source": [
    "# Dystans od metra"
   ]
  },
  {
   "cell_type": "code",
   "execution_count": 81,
   "metadata": {},
   "outputs": [],
   "source": [
    "metroCoordinates = [(52.131944, 21.065),(52.140833, 21.056389),(52.149167, 21.046389),\n",
    " (52.156111, 21.034722),(52.161944, 21.027778),(52.172778, 21.026389),\n",
    " (52.181389, 21.023056),(52.189722, 21.016667),(52.198611, 21.012222),\n",
    " (52.208611, 21.007778),(52.218333, 21.015278),(52.231389, 21.010556),\n",
    " (52.235833, 21.0075),(52.244722, 21.000556),(52.257778, 20.994444),\n",
    " (52.269167, 20.984167),(52.271667, 20.971667),(52.276389, 20.961389),\n",
    " (52.281944, 20.949444),(52.286389, 20.939444),(52.2911, 20.9289),\n",
    " (52.238611, 20.910278),(52.240278, 20.93),(52.2391, 20.9442),\n",
    " (52.2377, 20.9599), (52.23164, 20.967039), (52.230139, 20.983333),\n",
    " (52.233056, 20.998333), (52.235833, 21.0075), (52.237083, 21.017917),\n",
    " (52.24, 21.031667), (52.245833, 21.043333), (52.254722, 21.034722),\n",
    " (52.2634, 21.0453), (52.2695, 21.0514), (52.2753, 21.0554),\n",
    " (52.28369, 21.0622), (52.292111, 21.047361), (52.1736, 21.0146),\n",
    " (52.225278, 21.014167), (52.25, 20.998889)]\n",
    "def getDistFromMetro(row):\n",
    "    lat = row['latitude']\n",
    "    lon = row['longitude']\n",
    "    distFromMetros = []\n",
    "    for metro in metroCoordinates:\n",
    "        distFromMetros.append(geopy.distance.geodesic((lat,lon), metro).km)\n",
    "    distFromMetros.sort()\n",
    "    row['distFromMetro'] = distFromMetros[0]\n",
    "    return row\n",
    "df = df.apply(getDistFromMetro,axis=1)"
   ]
  },
  {
   "cell_type": "code",
   "execution_count": 82,
   "metadata": {},
   "outputs": [
    {
     "data": {
      "text/plain": [
       "48"
      ]
     },
     "execution_count": 82,
     "metadata": {},
     "output_type": "execute_result"
    }
   ],
   "source": [
    "len(df.columns)"
   ]
  },
  {
   "cell_type": "code",
   "execution_count": null,
   "metadata": {},
   "outputs": [],
   "source": [
    "# exclude the most expensive apartment as its 4x the price of the previous one, \n",
    "# fix mismatch in \"dzielnica\" column\n",
    "# apply average house year to the apartments with no years assigned\n",
    "df = df[df['cena']<100000000]\n",
    "df.loc[df[\"dzielnica\"] == 'Bielawa', \"dzielnica\"] = \"0\"\n",
    "df.loc[df[\"rokBudowy\"] == 0, \"rokBudowy\"] = 2004"
   ]
  },
  {
   "cell_type": "code",
   "execution_count": 83,
   "metadata": {},
   "outputs": [],
   "source": [
    "df = df[['price','rent','size','numberOfRooms','condition','constructionMaterial','typeOfConstruction',\n",
    "         'windows','yearOfConstruction','estateFloor','lastFloor','dwupoziomowe','oddzielna_kuchnia','elevator',\n",
    "         'piwnica','pom._użytkowe','balkon','ogródek','taras','internet','klimatyzacja','kuchenka',\n",
    "         'lodówka','meble','piekarnik','pralka',\n",
    "         'telefon', 'telewizja_kablowa','telewizor','zmywarka',\n",
    "         'domofon_/_wideofon', 'drzwi_/_okna_antywłamaniowe','monitoring_/_ochrona',\n",
    "         'system_alarmowy','rolety_antywłamaniowe','teren_zamknięty', \n",
    "         'market','formOfOwnership','heating','latitude','longitude','parkingSpot',\n",
    "         'remoteService','street','MSI','district','city','distFromMetro']]\n",
    "len(df.columns)\n",
    "cols = ['cena','czynsz','rozmiar','liczbaPokoi','stan','materiał','typBudynku',\n",
    "        'okna','rokBudowy','piętro','wysokośćBudynku','czyDwupoziomowe',\n",
    "        'oddzielnaKuchnia','winda','piwnica','pomieszczenieUżytkowe','balkon','ogródek','taras','internet',\n",
    "        'klimatyzacja','kuchenka','lodówka','meble','piekarnik','pralka','telefon',\n",
    "        'telewizjaKablowa','telewizor','zmywarka','domofon','antywłamaniowe','monitoring/ochrona',\n",
    "        'systemAlarmowy','roletyAntywłamaniowe','terenZamknęty',\n",
    "        'rynek','typWłasności','ogrzewanie','długośćGeograficzna','szerokośćGeograficzna',\n",
    "        'miejsceParkingowe','zdalnaObsługa','ulica','MSI','dzielnica','miasto',\n",
    "        'odległośćOdMetra']\n",
    "df.columns = cols"
   ]
  },
  {
   "cell_type": "code",
   "execution_count": 86,
   "metadata": {},
   "outputs": [
    {
     "data": {
      "text/plain": [
       "array(['Ursynów', 'Białołęka', 'Wola', 'Śródmieście', 'Mokotów',\n",
       "       'Praga-Północ', 'Praga-Południe', 'Bielany', 'Ochota', 'Wilanów',\n",
       "       'Żoliborz', 'Targówek', 'Rembertów', 'Wesoła', 'Bemowo', 'Ursus',\n",
       "       'Włochy', 'Wawer', 0, 'Bielawa'], dtype=object)"
      ]
     },
     "execution_count": 86,
     "metadata": {},
     "output_type": "execute_result"
    }
   ],
   "source": [
    "df['dzielnica'].unique()"
   ]
  },
  {
   "cell_type": "code",
   "execution_count": 85,
   "metadata": {},
   "outputs": [],
   "source": [
    "def fillCzynsz(row):\n",
    "    if row['czynsz'] == 0:\n",
    "        row['czynsz'] = row['rozmiar']*16\n",
    "        return row\n",
    "    return row\n",
    "df = df.apply(fillCzynsz,axis=1)\n",
    "def changeHeight(wys):\n",
    "    if wys == 52:\n",
    "        return 11\n",
    "    return wys\n",
    "\n",
    "df.replace(np.nan,0,inplace=True)\n",
    "df[['czynsz','pomieszczenieUżytkowe','balkon','ogródek','taras','internet','klimatyzacja',\n",
    "    'czyDwupoziomowe','oddzielnaKuchnia','piwnica', \n",
    "    'antywłamaniowe','monitoring/ochrona','systemAlarmowy',\n",
    "    'kuchenka','lodówka', 'meble', 'piekarnik', 'pralka','telefon', 'telewizjaKablowa',\n",
    "    'telewizor', 'zmywarka', 'domofon', 'roletyAntywłamaniowe', 'terenZamknęty']] = df[[\n",
    "   'czynsz','pomieszczenieUżytkowe','balkon','ogródek','taras','internet','klimatyzacja','czyDwupoziomowe','oddzielnaKuchnia','piwnica' , \n",
    "    'antywłamaniowe','monitoring/ochrona','systemAlarmowy',\n",
    "    'kuchenka','lodówka', 'meble', 'piekarnik', 'pralka','telefon', 'telewizjaKablowa',\n",
    "    'telewizor', 'zmywarka', 'domofon', 'roletyAntywłamaniowe', 'terenZamknęty']].astype(int)\n",
    "df.to_csv(\"formatted_data.csv\",index=False)"
   ]
  }
 ],
 "metadata": {
  "kernelspec": {
   "display_name": "Python 3",
   "language": "python",
   "name": "python3"
  },
  "language_info": {
   "codemirror_mode": {
    "name": "ipython",
    "version": 3
   },
   "file_extension": ".py",
   "mimetype": "text/x-python",
   "name": "python",
   "nbconvert_exporter": "python",
   "pygments_lexer": "ipython3",
   "version": "3.10.7"
  }
 },
 "nbformat": 4,
 "nbformat_minor": 2
}
